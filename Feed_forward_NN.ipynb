{
 "cells": [
  {
   "cell_type": "code",
   "execution_count": 5,
   "metadata": {},
   "outputs": [],
   "source": [
    "import torch\n",
    "import torch.nn as nn\n",
    "import torchvision\n",
    "import torchvision.transforms as transforms\n",
    "import matplotlib.pyplot as plt\n",
    "from torch.utils.data import DataLoader,Dataset\n",
    "\n"
   ]
  },
  {
   "cell_type": "code",
   "execution_count": 6,
   "metadata": {},
   "outputs": [],
   "source": [
    "# run on gpu if available.\n",
    "device = torch.device('cuda' if torch.cuda.is_available() else 'cpu')\n"
   ]
  },
  {
   "cell_type": "code",
   "execution_count": 39,
   "metadata": {},
   "outputs": [],
   "source": [
    "#hyper_parameters\n",
    "\n",
    "input_size = 28*28\n",
    "hidden_size = 128\n",
    "num_classes = 10              # since we r training on MNIST dataset\n",
    "num_epochs = 5\n",
    "batchsize = 128\n",
    "learning_rate = 0.01\n"
   ]
  },
  {
   "cell_type": "code",
   "execution_count": 40,
   "metadata": {},
   "outputs": [],
   "source": [
    "#MNIST dataset\n",
    "train_dataset = torchvision.datasets.MNIST(\n",
    "    root='./data',\n",
    "    train=True,\n",
    "    transform=transforms.ToTensor(),\n",
    "    download=True\n",
    "    )\n",
    "\n",
    "test_dataset = torchvision.datasets.MNIST(\n",
    "    root = './data',\n",
    "    train = False,\n",
    "    transform = transforms.ToTensor()                      # can declare custom transform = transforms.compose([transforms.ToTensor()])\n",
    "    )"
   ]
  },
  {
   "cell_type": "code",
   "execution_count": 41,
   "metadata": {},
   "outputs": [
    {
     "name": "stdout",
     "output_type": "stream",
     "text": [
      "torch.Size([128, 1, 28, 28]) torch.Size([128])\n"
     ]
    }
   ],
   "source": [
    "train_loader = DataLoader(dataset = train_dataset, batch_size=batchsize, shuffle=True)\n",
    "\n",
    "test_loader = DataLoader(dataset=test_dataset, shuffle=False, batch_size=batchsize)\n",
    "\n",
    "examples = iter(train_loader)\n",
    "samples,labels = next(examples)           # same as examples.__next()__ for better readability. \n",
    "\n",
    "print(samples.shape, labels.shape)\n"
   ]
  },
  {
   "cell_type": "markdown",
   "metadata": {},
   "source": [
    "size of samples is 128, 1, 28, 28 : \n",
    "\n",
    "128 for the number of samples in that batch.\n",
    "1 for the colour scale used (here grayscale : 0 for black to 255 for white)\n",
    "28 * 28 is the pixel matrix. \n"
   ]
  },
  {
   "cell_type": "code",
   "execution_count": 42,
   "metadata": {},
   "outputs": [
    {
     "data": {
      "image/png": "[encoded data removed]",
      "text/plain": [
       "<Figure size 640x480 with 6 Axes>"
      ]
     },
     "metadata": {},
     "output_type": "display_data"
    }
   ],
   "source": [
    "# see data visually \n",
    "\n",
    "for i in range(6):\n",
    "    plt.subplot(2,3,i+1)                  # plt.subplot(rows,columns,index)\n",
    "    plt.imshow(samples[i][0],cmap='gray')   # plt.imshow(samples[i][0]) = u know already from above\n",
    "plt.show()"
   ]
  },
  {
   "cell_type": "code",
   "execution_count": 43,
   "metadata": {},
   "outputs": [],
   "source": [
    "#Now \n",
    "# Write the model\n",
    "# train it\n",
    "# test it \n",
    "\n",
    "# MODEL\n",
    "\n",
    "class NeuralNet(nn.Module):\n",
    "    def __init__(self, inputsize, hiddensize, numclasses):\n",
    "        super(NeuralNet,self).__init__()\n",
    "        self.l1 = nn.Linear(input_size,hidden_size)\n",
    "        self.relu = nn.ReLU()\n",
    "        self.l2 = nn.Linear(hidden_size,num_classes)\n",
    "        \n",
    "    def forward(self,x):\n",
    "        out = self.l1(x)\n",
    "        out = self.relu(out)\n",
    "        out = self.l2(out)\n",
    "        return out\n",
    "\n",
    "# initialise the model\n",
    "\n",
    "model = NeuralNet(inputsize=input_size,hiddensize=hidden_size,numclasses=num_classes)\n",
    "\n",
    "        "
   ]
  },
  {
   "cell_type": "code",
   "execution_count": 44,
   "metadata": {},
   "outputs": [
    {
     "name": "stdout",
     "output_type": "stream",
     "text": [
      "epoch 1/5 , step 100/469, loss =  0.178\n",
      "epoch 1/5 , step 200/469, loss =  0.115\n",
      "epoch 1/5 , step 300/469, loss =  0.117\n",
      "epoch 1/5 , step 400/469, loss =  0.277\n",
      "epoch 2/5 , step 100/469, loss =  0.103\n",
      "epoch 2/5 , step 200/469, loss =  0.099\n",
      "epoch 2/5 , step 300/469, loss =  0.103\n",
      "epoch 2/5 , step 400/469, loss =  0.258\n",
      "epoch 3/5 , step 100/469, loss =  0.038\n",
      "epoch 3/5 , step 200/469, loss =  0.056\n",
      "epoch 3/5 , step 300/469, loss =  0.129\n",
      "epoch 3/5 , step 400/469, loss =  0.089\n",
      "epoch 4/5 , step 100/469, loss =  0.032\n",
      "epoch 4/5 , step 200/469, loss =  0.065\n",
      "epoch 4/5 , step 300/469, loss =  0.059\n",
      "epoch 4/5 , step 400/469, loss =  0.100\n",
      "epoch 5/5 , step 100/469, loss =  0.096\n",
      "epoch 5/5 , step 200/469, loss =  0.089\n",
      "epoch 5/5 , step 300/469, loss =  0.072\n",
      "epoch 5/5 , step 400/469, loss =  0.051\n"
     ]
    }
   ],
   "source": [
    "#loss and optimizer \n",
    "\n",
    "criterion = nn.CrossEntropyLoss()\n",
    "optimizer = torch.optim.Adam(model.parameters(),lr = learning_rate)        # remember we have to specify parameters and lr in optim.\n",
    "\n",
    "\n",
    "# training\n",
    "\n",
    "total_steps = len(train_loader)\n",
    "\n",
    "for epoch in range(num_epochs):\n",
    "    for i,(images,labels) in enumerate(train_loader):\n",
    "        images = images.reshape(-1,28*28).to(device)          # reshape from 100*1*28*28 to -1,784 our input size.\n",
    "        labels = labels.to(device)\n",
    "        \n",
    "        \n",
    "        #forward pass : calculate loss\n",
    "        outputs = model(images)\n",
    "        loss = criterion(outputs,labels)                   # cross entropy loss does everything : one hot encoding, softmax and then calculation of loss itself - builtin pytorch \n",
    "        \n",
    "        #backward pass\n",
    "        optimizer.zero_grad()                  # resets gradients to zero  after every epoch because remember where gradients are stored in pytorch grad attribute of each attribute.\n",
    "        loss.backward()                         # calculates gradients \n",
    "        optimizer.step()                       # update weights\n",
    "        \n",
    "        if ((i+1)%100 == 0):\n",
    "            print(f'epoch {epoch+1}/{num_epochs} , step {i+1}/{total_steps}, loss = {loss : .3f}')\n",
    "        \n",
    "        \n",
    "        \n",
    "        \n"
   ]
  },
  {
   "cell_type": "code",
   "execution_count": 46,
   "metadata": {},
   "outputs": [
    {
     "name": "stdout",
     "output_type": "stream",
     "text": [
      "tensor(97.1000)\n"
     ]
    }
   ],
   "source": [
    "#test \n",
    "\n",
    "with torch.no_grad():                 # in testing no need to calculate gradients or update weights\n",
    "    n_samples = 0\n",
    "    n_correct = 0\n",
    "    for images,labels in test_loader:\n",
    "        images = images.reshape(-1,28*28)\n",
    "        labels = labels.to(device)\n",
    "        outputs = model(images)\n",
    "        \n",
    "        _,predictions = torch.max(outputs,dim=1)        # max returns two values the max value and the index of prediction so we need the index only hence we use random variable '_'. \n",
    "        n_samples += labels.shape[0]\n",
    "        n_correct += (predictions==labels).sum()\n",
    "        \n",
    "    acc = 100*n_correct/n_samples\n",
    "    print(acc)\n",
    "    "
   ]
  }
 ],
 "metadata": {
  "kernelspec": {
   "display_name": "base",
   "language": "python",
   "name": "python3"
  },
  "language_info": {
   "codemirror_mode": {
    "name": "ipython",
    "version": 3
   },
   "file_extension": ".py",
   "mimetype": "text/x-python",
   "name": "python",
   "nbconvert_exporter": "python",
   "pygments_lexer": "ipython3",
   "version": "3.11.5"
  },
  "orig_nbformat": 4,
  "vscode": {
   "interpreter": {
    "hash": "8c97f6a8d471a84aac9f6a8c201c73e6a1f18dc0ca9e3e10111ba9dd8335f84c"
   }
  }
 },
 "nbformat": 4,
 "nbformat_minor": 2
}
